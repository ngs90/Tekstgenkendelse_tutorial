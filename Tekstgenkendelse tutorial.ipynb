{
 "cells": [
  {
   "cell_type": "markdown",
   "metadata": {},
   "source": [
    "# Tutorial i basal tekstgenkendelse fra billeder med Python"
   ]
  },
  {
   "cell_type": "markdown",
   "metadata": {},
   "source": [
    "### Setup"
   ]
  },
  {
   "cell_type": "markdown",
   "metadata": {},
   "source": [
    "#### Installer og test software"
   ]
  },
  {
   "cell_type": "markdown",
   "metadata": {},
   "source": [
    "Inden vi går i gang skal installeres nødvendig software: \n",
    "* Anaconda (Python distribution med mange præinstallerede pakker): \n",
    "    * https://www.anaconda.com/distribution/ vælg 3.x\n",
    "* Tesseract OCR (tekstgenkendelsessoftware)\n",
    "    * https://github.com/UB-Mannheim/tesseract/wiki vælg 3.x eller 4.x\n",
    "    \n",
    "Mulligvis skal sprogpakker opdateres, opdaterede sprogpakker til Tesseract kan findes her: https://github.com/tesseract-ocr/tesseract/wiki/Data-Files "
   ]
  },
  {
   "cell_type": "markdown",
   "metadata": {},
   "source": [
    "Efter installation oprettes en (projekt)-folder på computer, hvor Python kode mm. gemmes. I denne notebook er følgende folder brugt: \n",
    "\n",
    "* C:\\working\\ngs-lib\\Tekstgenkendelse_tutorial\n",
    "\n",
    "Åbn en PowerShell i den oprettede folder. Dette gøres fx ved at navigere ind i folderen fra explorer, hold shift nede og højreklik, vælg da \"Open PowerShell window here\""
   ]
  },
  {
   "cell_type": "markdown",
   "metadata": {},
   "source": [
    "Tjek at software er korrekt installeret ved at køre kommandoer: \n",
    "* python --version\n",
    "* tesseract --version\n",
    "\n",
    "Hvis mangler sørg da for at deres installationsfoldere er tilføjet til computerens miljøvariable."
   ]
  },
  {
   "cell_type": "markdown",
   "metadata": {},
   "source": [
    "#### Opret virtuelt miljø og kør jupyter notebook"
   ]
  },
  {
   "cell_type": "markdown",
   "metadata": {},
   "source": [
    "I Python oprettes typisk er virtuelt miljø for hvert projekt man arbejder på. Dette skyldes at man i forskellige projekter bruger forskellige pakker - og nogen gange i forskellige versioner. Ved at oprette et virtuelt miljø er man sikker på at man altid kan afvikle sin kode uafhængigt af hvilke pakker som andre projekter anvender."
   ]
  },
  {
   "cell_type": "markdown",
   "metadata": {},
   "source": [
    "I powershell køres følgende kommandoer:\n",
    "\n",
    "* python -m venv .env \n",
    "\n",
    "Denne kommando kalder python, som kalder en indbygget pakke i Python der hedder *venv*, som argument til *venv* givet navnet *.env* som bliver navnet på det virtuelle miljø vi opretter (man kunne have valgt et andet, men \"venv\", \"env\" og \".env\" er standard navne at bruge."
   ]
  },
  {
   "cell_type": "markdown",
   "metadata": {},
   "source": [
    "Efter installeres vores første python pakke med kommandoen \"pip install\". Vi skal i første omgang installere pakken \"ipykernel\". Dette gøres ved at køre følgende kommando: \n",
    "* pip install ipykernel\n",
    "\n",
    "Herefter køres kommandoen: \n",
    "* python -m ipykernel install --user --name .env\n",
    "\n",
    "Muligvis skal også køres\n",
    "* pip install jupyter"
   ]
  },
  {
   "cell_type": "markdown",
   "metadata": {},
   "source": [
    "Efter det virtuelle miljø er oprettet kan vi åbne vores yndlingseditor, i dette eksempel tager vi udgangspunkt i Jupyter notebook (som denne tutorial også er skrevet i). Juputer notebook startes ved at køre kommandoen\n",
    "\n",
    "* jupyter notebook \n",
    "\n",
    "Din standard browser åbner nu et vindue med Jupyter notebook. Opret en Python 3 notebook og under \"Kernel\" vælg \"Change kernel\" og vælg den netop oprettede kernel. "
   ]
  },
  {
   "cell_type": "markdown",
   "metadata": {},
   "source": [
    "### Første Python kode\n",
    "\n",
    "Den resterende del af tutorialen foregår i Jupyter notebook medmindre andet er angivet."
   ]
  },
  {
   "cell_type": "markdown",
   "metadata": {},
   "source": [
    "#### Print en besked"
   ]
  },
  {
   "cell_type": "code",
   "execution_count": 1,
   "metadata": {},
   "outputs": [
    {
     "name": "stdout",
     "output_type": "stream",
     "text": [
      "Kommandoer køres i Jupyter notebook ved at trykke CTRL+Enter\n"
     ]
    }
   ],
   "source": [
    "besked = 'Kommandoer køres i Jupyter notebook ved at trykke CTRL+Enter'\n",
    "print(besked)"
   ]
  },
  {
   "cell_type": "markdown",
   "metadata": {},
   "source": [
    "#### Første loop"
   ]
  },
  {
   "cell_type": "code",
   "execution_count": 3,
   "metadata": {},
   "outputs": [
    {
     "name": "stdout",
     "output_type": "stream",
     "text": [
      "0 Nye blokke af kode oprettes ved at trykke på \"+\"-øverst til højre.\n",
      "1 Nye blokke af kode oprettes ved at trykke på \"+\"-øverst til højre.\n",
      "2 Nye blokke af kode oprettes ved at trykke på \"+\"-øverst til højre.\n",
      "3 Nye blokke af kode oprettes ved at trykke på \"+\"-øverst til højre.\n",
      "4 Nye blokke af kode oprettes ved at trykke på \"+\"-øverst til højre.\n",
      "5 Nye blokke af kode oprettes ved at trykke på \"+\"-øverst til højre.\n",
      "6 Nye blokke af kode oprettes ved at trykke på \"+\"-øverst til højre.\n",
      "7 Nye blokke af kode oprettes ved at trykke på \"+\"-øverst til højre.\n",
      "8 Nye blokke af kode oprettes ved at trykke på \"+\"-øverst til højre.\n",
      "9 Nye blokke af kode oprettes ved at trykke på \"+\"-øverst til højre.\n"
     ]
    }
   ],
   "source": [
    "blok_besked = 'Nye blokke af kode oprettes ved at trykke på \"+\"-øverst til højre.'\n",
    "for i in range(0,10):\n",
    "    print(i, blok_besked)"
   ]
  },
  {
   "cell_type": "markdown",
   "metadata": {},
   "source": [
    "#### Første funktion"
   ]
  },
  {
   "cell_type": "code",
   "execution_count": 2,
   "metadata": {},
   "outputs": [
    {
     "name": "stdout",
     "output_type": "stream",
     "text": [
      "Det her er en simpel funktion\n"
     ]
    }
   ],
   "source": [
    "def print_besked():\n",
    "    print('Det her er en simpel funktion')\n",
    "    \n",
    "print_besked()"
   ]
  },
  {
   "cell_type": "markdown",
   "metadata": {},
   "source": [
    "#### Funktion med argumenter"
   ]
  },
  {
   "cell_type": "code",
   "execution_count": 6,
   "metadata": {},
   "outputs": [
    {
     "name": "stdout",
     "output_type": "stream",
     "text": [
      "Hej Alfons og velkommen til denne fantastiske tutorial\n"
     ]
    }
   ],
   "source": [
    "def velkommen_navn(navn):\n",
    "    return r\"Hej {navn} og velkommen til denne fantastiske tutorial\".format(navn=navn)\n",
    "\n",
    "mit_navn = 'Alfons'\n",
    "velkomst_besked = velkommen_navn(mit_navn)\n",
    "print(velkomst_besked)"
   ]
  },
  {
   "cell_type": "markdown",
   "metadata": {},
   "source": [
    "#### Load af en fil"
   ]
  },
  {
   "cell_type": "markdown",
   "metadata": {},
   "source": [
    "I Følgende antages at der eksisterer en fil med tekst på følgende destination (kan ændres efter behov): \n",
    "* C:\\working\\ngs-lib\\Tekstgenkendelse_tutorial\\data\\Opskrift.txt'"
   ]
  },
  {
   "cell_type": "code",
   "execution_count": 7,
   "metadata": {
    "scrolled": true
   },
   "outputs": [
    {
     "name": "stdout",
     "output_type": "stream",
     "text": [
      "Opskrift på drinken Unfaithful \n",
      "\n",
      "Ingredienser:\n",
      "5 cl Hendricks gin\n",
      "3 cl citronsaft\n",
      "1,5 cl Cointreau,\n",
      "En halv bar-ske rålakrids\n",
      "2 cl honning\n",
      "Agurk\n",
      "Knust is\n",
      "\n",
      "Fremgangsmåde:\n",
      "Stød agurk, rålakrids og honning sammen. Tilsæt resten af ingredienserne, ryst dem i en shaker med is og si drinken gennem en ekstra si over i et cocktailglas.\n"
     ]
    }
   ],
   "source": [
    "file_path = r'C:\\working\\ngs-lib\\Tekstgenkendelse_tutorial\\data\\Opskrift.txt'\n",
    "\n",
    "with open(file_path, 'r') as f:\n",
    "    text = f.read()\n",
    "\n",
    "print(text)"
   ]
  },
  {
   "cell_type": "markdown",
   "metadata": {},
   "source": [
    "### Installation af pakker"
   ]
  },
  {
   "cell_type": "markdown",
   "metadata": {},
   "source": [
    "I følgende skal vi bruge forskellige pakker, dem installerer vi nu på forhånd. Der er tale om følgende pakker som skal køres som kommandoer i PowerShell:\n",
    "* pip install matplotlib\n",
    "* pip install Pillow\n",
    "* pip install opencv-python\n",
    "* pip install pytesseract \n",
    "\n",
    "Man kan læse mere om fx pytesseract på pypi's hjemmeside: \n",
    "* https://pypi.org/project/pytesseract/"
   ]
  },
  {
   "cell_type": "markdown",
   "metadata": {},
   "source": [
    "#### Load og visning af et billede"
   ]
  },
  {
   "cell_type": "markdown",
   "metadata": {},
   "source": [
    "I følgende antages at eksisterer et .jpg billede der indeholder en form for tekst på følgende destination: \n",
    "* C:\\working\\ngs-lib\\Tekstgenkendelse_tutorial\\data\\InkedForan Alteret (1880) - Herman Bang (Det moderne gennembrud)_LI.jpg "
   ]
  },
  {
   "cell_type": "code",
   "execution_count": 4,
   "metadata": {},
   "outputs": [],
   "source": [
    "import matplotlib.pyplot as plt \n",
    "import pytesseract\n",
    "import cv2"
   ]
  },
  {
   "cell_type": "code",
   "execution_count": 5,
   "metadata": {},
   "outputs": [
    {
     "name": "stdout",
     "output_type": "stream",
     "text": [
      "[[[255 255 255]\n",
      "  [255 255 255]\n",
      "  [255 255 255]\n",
      "  ...\n",
      "  [255 255 255]\n",
      "  [255 255 255]\n",
      "  [255 255 255]]\n",
      "\n",
      " [[255 255 255]\n",
      "  [255 255 255]\n",
      "  [255 255 255]\n",
      "  ...\n",
      "  [255 255 255]\n",
      "  [255 255 255]\n",
      "  [255 255 255]]\n",
      "\n",
      " [[255 255 255]\n",
      "  [255 255 255]\n",
      "  [255 255 255]\n",
      "  ...\n",
      "  [255 255 255]\n",
      "  [255 255 255]\n",
      "  [255 255 255]]\n",
      "\n",
      " ...\n",
      "\n",
      " [[255 255 255]\n",
      "  [255 255 255]\n",
      "  [255 255 255]\n",
      "  ...\n",
      "  [255 255 255]\n",
      "  [255 255 255]\n",
      "  [255 255 255]]\n",
      "\n",
      " [[255 255 255]\n",
      "  [255 255 255]\n",
      "  [255 255 255]\n",
      "  ...\n",
      "  [255 255 255]\n",
      "  [255 255 255]\n",
      "  [255 255 255]]\n",
      "\n",
      " [[255 255 255]\n",
      "  [255 255 255]\n",
      "  [255 255 255]\n",
      "  ...\n",
      "  [255 255 255]\n",
      "  [255 255 255]\n",
      "  [255 255 255]]]\n"
     ]
    }
   ],
   "source": [
    "# Sti til billede\n",
    "#image_file_path = r'C:\\working\\ngs-lib\\Tekstgenkendelse_tutorial\\data\\100simuleringer.png'\n",
    "#image_file_path = r'C:\\working\\ngs-lib\\Tekstgenkendelse_tutorial\\data\\Foran Alteret (1880) - Herman Bang (Det moderne gennembrud).tiff'\n",
    "image_file_path = r'C:\\working\\ngs-lib\\Tekstgenkendelse_tutorial\\data\\InkedForan Alteret (1880) - Herman Bang (Det moderne gennembrud)_LI.jpg'\n",
    "image = plt.imread(image_file_path)\n",
    "print(image)\n",
    "\n",
    "# for i in image:\n",
    "#     if i > 500:\n",
    "#         for l in i:\n",
    "#             print(l)"
   ]
  },
  {
   "cell_type": "code",
   "execution_count": 6,
   "metadata": {
    "scrolled": true
   },
   "outputs": [
    {
     "data": {
      "image/png": "[encoded data removed]",
      "text/plain": [
       "<Figure size 432x288 with 1 Axes>"
      ]
     },
     "metadata": {
      "needs_background": "light"
     },
     "output_type": "display_data"
    }
   ],
   "source": [
    "# Print billede\n",
    "show_image = plt.imshow(image, cmap='gray')\n",
    "plt.show(show_image)"
   ]
  },
  {
   "cell_type": "markdown",
   "metadata": {},
   "source": [
    "### OCR (object character recognition - tekstgenkendelse) i billeder"
   ]
  },
  {
   "cell_type": "code",
   "execution_count": 7,
   "metadata": {},
   "outputs": [
    {
     "name": "stdout",
     "output_type": "stream",
     "text": [
      "Analyse — Foran Alteret (1880) af Herman Bang\n",
      "\n",
      "Nicolaj Schmit hh3a - ZBC\n",
      "\n",
      "NovenilgeLZL 2010\n",
      "\n",
      "N.\n",
      "/ Xl\n",
      "I foran al eret gør/ég… endelig den i\n",
      "\n",
      "ellers førhenfhavde været såWTide, han t ger emnet\n",
      "\n",
      ",.\n",
      "\n",
      "    \n",
      "   \n",
      "   \n",
      " \n",
      "  \n",
      "  \n",
      "    \n",
      "   \n",
      "   \n",
      "  \n",
      "\n",
      "iske facade der\n",
      "gteskab op som\n",
      "ellers 1 hø _]rdmant1kken var Jvl ske man k ne forestille sig;\n",
      "vi et helt andet\n",
      "\n",
      "eller kærlighed\n",
      "\n",
      "hvid brud, ne sind og ægte kærlighed. Men, i to 11 alteret\n",
      "indtryk af gteskabet, hvor ægteskabet hverken bgéger på tros\n",
      "men derimfnd penge og for at opretholde egerytus.\n",
      "\n",
      "HermaniBang (18-57-1912) blev født på Als i he gdømmet Slesv\n",
      "sine foræld i de førsmänaiham barndom, men ans far var stærkt\n",
      "indlagt paå sindssygehospital, kort efter denne !:isode døde Bangsy\n",
      "\n",
      "Bang blevfkostskoleelev på Sorø Akademi livfan tog sin studentere\n",
      "I årene efter flyttede Bang til Købehav vor han fik flere forske\n",
      "\n",
      "g voksede op med\n",
      "rvesvækket og blev\n",
      "r og dette betød at\n",
      "\n",
      "noget tidspunkt at blive fastansat noget ted, disse job var digter, urnalist, instruktør,\n",
      "\n",
      "oplæser m.fl. Udover at have en barsk rndom var Herman Bang homoseksuel, dette\n",
      "betød at hanhavde-svært—wd'amvefiépekteret, da man i denne tid nte at homoseksue 'e'\n",
      "\n",
      "var sindsforvirrede. Det første materiale han begynder at skrive er primært noveller og\n",
      "\n",
      " \n",
      "\n",
      "romaner med et natur 1 ' - n ligger vægt på det realistisk\n",
      "\n",
      " \n",
      "\n",
      "og ærlige.\n",
      "\n",
      "I 1978 har han formuleret sit eget kunstideal som han beskriver ved ”Livet er, ret betragtet,\n",
      "langt rigere end vor fantasi. Er man først kommet til denne opfattelse, vil det let ske, at\n",
      "man giver sig til om ikke at fotografere livet, hvad ganske vist nogle bliver stående ved, så\n",
      "dog at male det med en portrætmalers omhu.771 Med dette mener han som han også selv\n",
      "skriver ret direkte at selve livet er vigtigere end det man kan drømme og fantasere sig til,\n",
      "og hvis virkeligheden sk eskrives skal det gøres med stor omhu. Dette kan man også\n",
      "se at han følger seneÆn impressionistiske måde som han skriver på, ved at beskrive\n",
      "\n",
      "whåndbogen s. 379\n"
     ]
    }
   ],
   "source": [
    "# Indlæs billede\n",
    "im = cv2.imread(image_file_path, cv2.IMREAD_COLOR)\n",
    "# Configurer tesseract\n",
    "config = ('-l dan --oem 0 --psm 3')\n",
    "# Kør tesseract OCR på billede\n",
    "text = pytesseract.image_to_string(im, config=config)\n",
    "# Print tekst i billede\n",
    "print(text)"
   ]
  },
  {
   "cell_type": "code",
   "execution_count": 8,
   "metadata": {
    "scrolled": true
   },
   "outputs": [
    {
     "data": {
      "image/png": "[encoded data removed]",
      "text/plain": [
       "<Figure size 432x288 with 1 Axes>"
      ]
     },
     "metadata": {
      "needs_background": "light"
     },
     "output_type": "display_data"
    }
   ],
   "source": [
    "#Præprocessering inden OCR \n",
    "\n",
    "im = cv2.imread(image_file_path, cv2.IMREAD_COLOR)\n",
    "gray = cv2.cvtColor(image, cv2.COLOR_BGR2GRAY)\n",
    "show_gray = plt.imshow(gray, cmap='gray')\n",
    "plt.show(show_gray)"
   ]
  },
  {
   "cell_type": "code",
   "execution_count": 9,
   "metadata": {},
   "outputs": [
    {
     "name": "stdout",
     "output_type": "stream",
     "text": [
      "Analyse — Foran Alteret (1880) af Herman Bang\n",
      "\n",
      "Nicolaj Schmit hh3a - ZBC\n",
      "\n",
      "November 23, 2010\n",
      "\n",
      "I foran alteret gør Herman Bang endelig op med den id liske facade der\n",
      "ellers førhen havde været så dominerende, han tager emnet gteskab op som\n",
      "\n",
      "nu.\n",
      "\n",
      "ellers i hø jromantikken var ' 'dvlliske man k ine forestille sig;\n",
      "hvid brud, rene sind og ægte kærlighed. Men, i toran alteret i vi et helt andet\n",
      "indtryk af ægteskabet, hvor ægteskabet hverken bygger på tros b eller kærlighed\n",
      "men derimod penge og for at opretholde egen status.\n",
      "\n",
      "Herman Bang (18-57-1912) blev født på Als i hertugdømmet Slesvi og voksede op med\n",
      "sine foraeldre i de første år… barndom, men hans far var stærkt rvesvækket og blev\n",
      "indlagt på et sindssygehospital, kort efter denne episode døde Bangsy 1 ør og dette betød at\n",
      "Bang blev kostskoleelev på Sorø Akademi hvor han tog sin studentere unen.\n",
      "\n",
      "I årene efter flyttede Bang til Købehavn hvor han fik flere forske' ;e jobs dog uden på\n",
      "noget tidspunkt at blive fastansat noget sted, disse job var digter, urnalist, instruktør,\n",
      "oplæser m.fl. Udover at have en barsk barndom var Herman Bang 0 i homoseksuel, dette\n",
      "betød at han havde svært ved at blive respekteret, da man i denne tid mente at homoseksuelle\n",
      "var sindsforvirrede. Det første materiale han begynder at skrive er primært noveller og\n",
      "romaner med et natur…mgdmnstsympmdrtmäan ligger vægt på det realistisk\n",
      "og ærlige.\n",
      "\n",
      "l 1978 har han formuleret sit eget kunstideal som han beskriver ved \"Livet er, ret betragtet,\n",
      "langt rigere end vor fantasi. Er man først kommet til denne opfattelse, vil det let ske, at\n",
      "man giver sig til om ikke at fotografere livet, hvad ganske vist nogle bliver stående ved, så\n",
      "\n",
      "dog at male det med en portrætmalers omhu.771\n",
      "\n",
      "Med dette mener han som han også selv\n",
      "skriver ret direkte at selve livet er vigtigere end det man kan drømme og fantasere sig til,\n",
      "og hvis virkeligheden skal—fbeskrives skal det gøres med stor omhu. Dette kan man også\n",
      "\n",
      "se at han følger senere, i den impressionistiske måde som han skriver på, ved at beskrive\n",
      "\n",
      "wähandbogen s. 379\n",
      "\n",
      "f'\n"
     ]
    }
   ],
   "source": [
    "text = pytesseract.image_to_string(gray, config=config)\n",
    "print(text)"
   ]
  },
  {
   "cell_type": "code",
   "execution_count": null,
   "metadata": {},
   "outputs": [],
   "source": []
  }
 ],
 "metadata": {
  "kernelspec": {
   "display_name": "Tekstgenkendelse_tutorial",
   "language": "python",
   "name": "tekstgenkendelse_tutorial"
  },
  "language_info": {
   "codemirror_mode": {
    "name": "ipython",
    "version": 3
   },
   "file_extension": ".py",
   "mimetype": "text/x-python",
   "name": "python",
   "nbconvert_exporter": "python",
   "pygments_lexer": "ipython3",
   "version": "3.6.5"
  }
 },
 "nbformat": 4,
 "nbformat_minor": 2
}
